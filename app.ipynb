{
 "cells": [
  {
   "cell_type": "code",
   "execution_count": 16,
   "metadata": {},
   "outputs": [],
   "source": [
    "import datetime as dt\n",
    "import numpy as np\n",
    "import pandas as pd\n",
    "\n",
    "import sqlalchemy\n",
    "from sqlalchemy.ext.automap import automap_base\n",
    "from sqlalchemy.orm import Session\n",
    "from sqlalchemy import create_engine, func, inspect\n",
    "\n",
    "from flask import Flask, jsonify\n"
   ]
  },
  {
   "cell_type": "code",
   "execution_count": 17,
   "metadata": {},
   "outputs": [],
   "source": [
    "#ref for check_same_thread: https://docs.python.org/3/library/sqlite3.html\n",
    "engine = create_engine(\"sqlite:///Resources/hawaii.sqlite\", connect_args={'check_same_thread': False}, echo=True)\n"
   ]
  },
  {
   "cell_type": "code",
   "execution_count": 18,
   "metadata": {},
   "outputs": [
    {
     "name": "stdout",
     "output_type": "stream",
     "text": [
      "2020-02-10 11:55:51,835 INFO sqlalchemy.engine.base.Engine SELECT CAST('test plain returns' AS VARCHAR(60)) AS anon_1\n",
      "2020-02-10 11:55:51,836 INFO sqlalchemy.engine.base.Engine ()\n",
      "2020-02-10 11:55:51,837 INFO sqlalchemy.engine.base.Engine SELECT CAST('test unicode returns' AS VARCHAR(60)) AS anon_1\n",
      "2020-02-10 11:55:51,838 INFO sqlalchemy.engine.base.Engine ()\n",
      "2020-02-10 11:55:51,839 INFO sqlalchemy.engine.base.Engine SELECT name FROM sqlite_master WHERE type='table' ORDER BY name\n",
      "2020-02-10 11:55:51,840 INFO sqlalchemy.engine.base.Engine ()\n",
      "2020-02-10 11:55:51,841 INFO sqlalchemy.engine.base.Engine PRAGMA main.table_info(\"measurement\")\n",
      "2020-02-10 11:55:51,842 INFO sqlalchemy.engine.base.Engine ()\n",
      "2020-02-10 11:55:51,844 INFO sqlalchemy.engine.base.Engine SELECT sql FROM  (SELECT * FROM sqlite_master UNION ALL   SELECT * FROM sqlite_temp_master) WHERE name = 'measurement' AND type = 'table'\n",
      "2020-02-10 11:55:51,845 INFO sqlalchemy.engine.base.Engine ()\n",
      "2020-02-10 11:55:51,847 INFO sqlalchemy.engine.base.Engine PRAGMA main.foreign_key_list(\"measurement\")\n",
      "2020-02-10 11:55:51,848 INFO sqlalchemy.engine.base.Engine ()\n",
      "2020-02-10 11:55:51,849 INFO sqlalchemy.engine.base.Engine PRAGMA temp.foreign_key_list(\"measurement\")\n",
      "2020-02-10 11:55:51,850 INFO sqlalchemy.engine.base.Engine ()\n",
      "2020-02-10 11:55:51,850 INFO sqlalchemy.engine.base.Engine SELECT sql FROM  (SELECT * FROM sqlite_master UNION ALL   SELECT * FROM sqlite_temp_master) WHERE name = 'measurement' AND type = 'table'\n",
      "2020-02-10 11:55:51,851 INFO sqlalchemy.engine.base.Engine ()\n",
      "2020-02-10 11:55:51,852 INFO sqlalchemy.engine.base.Engine PRAGMA main.index_list(\"measurement\")\n",
      "2020-02-10 11:55:51,853 INFO sqlalchemy.engine.base.Engine ()\n",
      "2020-02-10 11:55:51,854 INFO sqlalchemy.engine.base.Engine PRAGMA temp.index_list(\"measurement\")\n",
      "2020-02-10 11:55:51,855 INFO sqlalchemy.engine.base.Engine ()\n",
      "2020-02-10 11:55:51,855 INFO sqlalchemy.engine.base.Engine PRAGMA main.index_list(\"measurement\")\n",
      "2020-02-10 11:55:51,856 INFO sqlalchemy.engine.base.Engine ()\n",
      "2020-02-10 11:55:51,857 INFO sqlalchemy.engine.base.Engine PRAGMA temp.index_list(\"measurement\")\n",
      "2020-02-10 11:55:51,858 INFO sqlalchemy.engine.base.Engine ()\n",
      "2020-02-10 11:55:51,859 INFO sqlalchemy.engine.base.Engine SELECT sql FROM  (SELECT * FROM sqlite_master UNION ALL   SELECT * FROM sqlite_temp_master) WHERE name = 'measurement' AND type = 'table'\n",
      "2020-02-10 11:55:51,860 INFO sqlalchemy.engine.base.Engine ()\n",
      "2020-02-10 11:55:51,861 INFO sqlalchemy.engine.base.Engine PRAGMA main.table_info(\"station\")\n",
      "2020-02-10 11:55:51,862 INFO sqlalchemy.engine.base.Engine ()\n",
      "2020-02-10 11:55:51,863 INFO sqlalchemy.engine.base.Engine SELECT sql FROM  (SELECT * FROM sqlite_master UNION ALL   SELECT * FROM sqlite_temp_master) WHERE name = 'station' AND type = 'table'\n",
      "2020-02-10 11:55:51,864 INFO sqlalchemy.engine.base.Engine ()\n",
      "2020-02-10 11:55:51,865 INFO sqlalchemy.engine.base.Engine PRAGMA main.foreign_key_list(\"station\")\n",
      "2020-02-10 11:55:51,865 INFO sqlalchemy.engine.base.Engine ()\n",
      "2020-02-10 11:55:51,866 INFO sqlalchemy.engine.base.Engine PRAGMA temp.foreign_key_list(\"station\")\n",
      "2020-02-10 11:55:51,866 INFO sqlalchemy.engine.base.Engine ()\n",
      "2020-02-10 11:55:51,867 INFO sqlalchemy.engine.base.Engine SELECT sql FROM  (SELECT * FROM sqlite_master UNION ALL   SELECT * FROM sqlite_temp_master) WHERE name = 'station' AND type = 'table'\n",
      "2020-02-10 11:55:51,867 INFO sqlalchemy.engine.base.Engine ()\n",
      "2020-02-10 11:55:51,868 INFO sqlalchemy.engine.base.Engine PRAGMA main.index_list(\"station\")\n",
      "2020-02-10 11:55:51,869 INFO sqlalchemy.engine.base.Engine ()\n",
      "2020-02-10 11:55:51,870 INFO sqlalchemy.engine.base.Engine PRAGMA temp.index_list(\"station\")\n",
      "2020-02-10 11:55:51,870 INFO sqlalchemy.engine.base.Engine ()\n",
      "2020-02-10 11:55:51,872 INFO sqlalchemy.engine.base.Engine PRAGMA main.index_list(\"station\")\n",
      "2020-02-10 11:55:51,872 INFO sqlalchemy.engine.base.Engine ()\n",
      "2020-02-10 11:55:51,873 INFO sqlalchemy.engine.base.Engine PRAGMA temp.index_list(\"station\")\n",
      "2020-02-10 11:55:51,873 INFO sqlalchemy.engine.base.Engine ()\n",
      "2020-02-10 11:55:51,874 INFO sqlalchemy.engine.base.Engine SELECT sql FROM  (SELECT * FROM sqlite_master UNION ALL   SELECT * FROM sqlite_temp_master) WHERE name = 'station' AND type = 'table'\n",
      "2020-02-10 11:55:51,874 INFO sqlalchemy.engine.base.Engine ()\n"
     ]
    }
   ],
   "source": [
    "# Reflect Database into ORM classes\n",
    "Base = automap_base()\n",
    "Base.prepare(engine, reflect=True)\n"
   ]
  },
  {
   "cell_type": "code",
   "execution_count": 19,
   "metadata": {},
   "outputs": [],
   "source": [
    "#assign measurement/stattion classes\n",
    "Measurement = Base.classes.measurement\n",
    "Station = Base.classes.station\n",
    "#create session\n",
    "\n",
    "session=Session(engine)"
   ]
  },
  {
   "cell_type": "code",
   "execution_count": 20,
   "metadata": {},
   "outputs": [],
   "source": [
    "#Flask\n",
    "\n",
    "app = Flask(__name__)"
   ]
  },
  {
   "cell_type": "code",
   "execution_count": 21,
   "metadata": {},
   "outputs": [],
   "source": [
    "app.config[\"JSON_SORT_KEYS\"] = False"
   ]
  },
  {
   "cell_type": "code",
   "execution_count": 22,
   "metadata": {},
   "outputs": [],
   "source": [
    "@app.route(\"/\")\n",
    "def index():\n",
    "    return (\n",
    "        f\"-------------------------<br>\"\n",
    "        f\"Available Routes:<br>\"\n",
    "        f\"-------------------------<br>\"\n",
    "        f\"Precipitation for last year: /api/v1.0/precipitation<br/>\"\n",
    "        f\"List of all stations: /api/v1.0/stations<br/>\"\n",
    "        f\"Date and temperature observations from the last year: /api/v1.0/tobs<br/>\"        \n",
    "        f\"Min, Avg, Max Temp given a start date up to most current date in db: /api/v1.0/2012-05-15<br/>\"\n",
    "        f\"Min, Avg, Max Temp given a start and end date: /api/v1.0/2015-09-12/2015-09-13<br/>\"\n",
    "    )\n"
   ]
  },
  {
   "cell_type": "code",
   "execution_count": 23,
   "metadata": {},
   "outputs": [],
   "source": [
    "#Convert Query to a dictionary using 'date' as 'prcp' value. Return JSON representation of dictionary.\n",
    "@app.route(\"/api/v1.0/precipitation\")    \n",
    "def precip():\n",
    "    results = session.query(Measurement.date, Measurement.prcp)\\\n",
    "    .filter(Measurement.date >= '2016-08-22')\\\n",
    "    .filter(Measurement.date <= '2017-08-23')\\\n",
    "    .order_by(Measurement.date)\n",
    "    \n",
    "    precip_data = []\n",
    "    for r in results:\n",
    "        precip_dict = {}\n",
    "        precip_dict['date'] = r.date\n",
    "        precip_dict['prcp'] = r.prcp\n",
    "        precip_data.append(precip_dict)\n",
    "\n",
    "    return jsonify(precip_data)\n"
   ]
  },
  {
   "cell_type": "code",
   "execution_count": 24,
   "metadata": {},
   "outputs": [],
   "source": [
    "\n",
    "# Return a JSON list of stations from the dataset.\n",
    "@app.route(\"/api/v1.0/stations\")\n",
    "def stations():\n",
    "    #query for the data, practicing join even though station table has both columns queried below\n",
    "    results = session.query(Station.name, Measurement.station)\\\n",
    "    .filter(Station.station == Measurement.station)\\\n",
    "    .group_by(Station.name).all()\n",
    "\n",
    "    stations_data = []\n",
    "    for r in results:\n",
    "        stations_dict = {}\n",
    "        stations_dict['name']    = r.name\n",
    "        stations_dict['station'] = r.station\n",
    "        stations_data.append(stations_dict)\n",
    "    \n",
    "    return jsonify(stations_data)\n"
   ]
  },
  {
   "cell_type": "code",
   "execution_count": 25,
   "metadata": {},
   "outputs": [],
   "source": [
    "# Query for the dates and temperature observations from a year from the last data point. Return a JSON list of Temperature Observations (tobs) for the previous year.\n",
    "@app.route(\"/api/v1.0/tobs\")\n",
    "def tobs():\n",
    "    results = session.query(Measurement.date, Measurement.tobs)\\\n",
    "    .filter(Measurement.date >= '2016-08-22')\\\n",
    "    .filter(Measurement.date <= '2017-08-23')\\\n",
    "    .order_by(Measurement.date)\n",
    "\n",
    "    tobs_data = []\n",
    "    for r in results:\n",
    "        tobs_dict = {}\n",
    "        tobs_dict['date'] = r.date\n",
    "        tobs_dict['tobs'] = r.tobs\n",
    "        tobs_data.append(tobs_dict)\n",
    "    \n",
    "    return jsonify(tobs_data)\n"
   ]
  },
  {
   "cell_type": "code",
   "execution_count": 26,
   "metadata": {},
   "outputs": [],
   "source": [
    "# When given the start only, calculate `TMIN`, `TAVG`, and `TMAX` for all dates greater than and equal to the start date.\n",
    "@app.route(\"/api/v1.0/<start>\")\n",
    "def temp_stats_start(start):\n",
    "\n",
    "    results = session.query\\\n",
    "    (func.min(Measurement.tobs).label('min'),\\\n",
    "    func.avg(Measurement.tobs).label('avg'),\\\n",
    "    func.max(Measurement.tobs).label('max'))\\\n",
    "    .filter(Measurement.date >= start).all()\n",
    "    \n",
    "\n",
    "    start_stats_data = []\n",
    "    for r in results:\n",
    "        start_stats_dict = {}\n",
    "        start_stats_dict['Start Date'] = start\n",
    "        start_stats_dict['Min Temp'] = r.min\n",
    "        start_stats_dict['Avg Temp'] = r.avg\n",
    "        start_stats_dict['Max Temp'] = r.max\n",
    "        start_stats_data.append(start_stats_dict)\n",
    "    \n",
    "    return jsonify(start_stats_data)\n",
    "\n"
   ]
  },
  {
   "cell_type": "code",
   "execution_count": 27,
   "metadata": {},
   "outputs": [
    {
     "name": "stdout",
     "output_type": "stream",
     "text": [
      " * Serving Flask app \"__main__\" (lazy loading)\n",
      " * Environment: production\n",
      "   WARNING: This is a development server. Do not use it in a production deployment.\n",
      "   Use a production WSGI server instead.\n",
      " * Debug mode: on\n"
     ]
    },
    {
     "name": "stderr",
     "output_type": "stream",
     "text": [
      " * Restarting with stat\n"
     ]
    },
    {
     "ename": "SystemExit",
     "evalue": "1",
     "output_type": "error",
     "traceback": [
      "An exception has occurred, use %tb to see the full traceback.\n",
      "\u001b[1;31mSystemExit\u001b[0m\u001b[1;31m:\u001b[0m 1\n"
     ]
    },
    {
     "name": "stderr",
     "output_type": "stream",
     "text": [
      "C:\\Users\\maxon\\Anaconda3\\lib\\site-packages\\IPython\\core\\interactiveshell.py:3334: UserWarning: To exit: use 'exit', 'quit', or Ctrl-D.\n",
      "  warn(\"To exit: use 'exit', 'quit', or Ctrl-D.\", stacklevel=1)\n"
     ]
    }
   ],
   "source": [
    "# When given the start and the end date, calculate the TMIN, TAVG, and TMAX for dates between the start and end date inclusive.\n",
    "@app.route(\"/api/v1.0/<start>/<end>\")\n",
    "def temp_stats_start_end(start, end):\n",
    "\n",
    "    results = session.query(func.min(Measurement.tobs).label('min'),\\\n",
    "    func.avg(Measurement.tobs).label('avg'),\\\n",
    "    func.max(Measurement.tobs).label('max'))\\\n",
    "    .filter(Measurement.date >= start)\\\n",
    "    .filter(Measurement.date <= end).all()\n",
    "\n",
    "    start_end_stats_data = []\n",
    "    for r in results:\n",
    "        start_end_stats_dict = {}\n",
    "        start_end_stats_dict['Start Date'] = start\n",
    "        start_end_stats_dict['End Date'] = end\n",
    "        start_end_stats_dict['Min Temp'] = r.min\n",
    "        start_end_stats_dict['Avg Temp'] = r.avg\n",
    "        start_end_stats_dict['Max Temp'] = r.max\n",
    "        start_end_stats_data.append(start_end_stats_dict)\n",
    "    \n",
    "    return jsonify(start_end_stats_data)\n",
    "\n",
    "if __name__ == '__main__':\n",
    "    app.run(debug=True)\n"
   ]
  }
 ],
 "metadata": {
  "kernelspec": {
   "display_name": "Python 3",
   "language": "python",
   "name": "python3"
  },
  "language_info": {
   "codemirror_mode": {
    "name": "ipython",
    "version": 3
   },
   "file_extension": ".py",
   "mimetype": "text/x-python",
   "name": "python",
   "nbconvert_exporter": "python",
   "pygments_lexer": "ipython3",
   "version": "3.7.4"
  }
 },
 "nbformat": 4,
 "nbformat_minor": 2
}
